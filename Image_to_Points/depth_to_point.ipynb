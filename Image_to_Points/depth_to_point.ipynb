{
 "cells": [
  {
   "cell_type": "code",
   "execution_count": 1,
   "metadata": {},
   "outputs": [],
   "source": [
    "import os\n",
    "import numpy as np\n",
    "import cv2\n",
    "import matplotlib.pyplot as plt"
   ]
  },
  {
   "cell_type": "code",
   "execution_count": 2,
   "metadata": {},
   "outputs": [],
   "source": [
    "class Calibration(object):\n",
    "    ''' Calibration matrices and utils\n",
    "        3d XYZ in <label>.txt are in rect camera coord.\n",
    "        2d box xy are in image2 coord\n",
    "        Points in <lidar>.bin are in Velodyne coord.\n",
    "\n",
    "        y_image2 = P^2_rect * x_rect\n",
    "        y_image2 = P^2_rect * R0_rect * Tr_velo_to_cam * x_velo\n",
    "        x_ref = Tr_velo_to_cam * x_velo\n",
    "        x_rect = R0_rect * x_ref\n",
    "\n",
    "        P^2_rect = [f^2_u,  0,      c^2_u,  -f^2_u b^2_x;\n",
    "                    0,      f^2_v,  c^2_v,  -f^2_v b^2_y;\n",
    "                    0,      0,      1,      0]\n",
    "                 = K * [1|t]\n",
    "\n",
    "        image2 coord:\n",
    "         ----> x-axis (u)\n",
    "        |\n",
    "        |\n",
    "        v y-axis (v)\n",
    "\n",
    "        velodyne coord:\n",
    "        front x, left y, up z\n",
    "\n",
    "        rect/ref camera coord:\n",
    "        right x, down y, front z\n",
    "\n",
    "        Ref (KITTI paper): http://www.cvlibs.net/publications/Geiger2013IJRR.pdf\n",
    "\n",
    "        TODO(rqi): do matrix multiplication only once for each projection.\n",
    "    '''\n",
    "\n",
    "    def __init__(self, calib_filepath):\n",
    "\n",
    "        calibs = self.read_calib_file(calib_filepath)\n",
    "        # Projection matrix from rect camera coord to image2 coord\n",
    "        self.P = calibs['P2']\n",
    "        self.P = np.reshape(self.P, [3, 4])\n",
    "        # Rigid transform from Velodyne coord to reference camera coord\n",
    "        self.V2C = calibs['Tr_velo_to_cam']\n",
    "        self.V2C = np.reshape(self.V2C, [3, 4])\n",
    "        self.C2V = inverse_rigid_trans(self.V2C)\n",
    "        # Rotation from reference camera coord to rect camera coord\n",
    "        self.R0 = calibs['R0_rect']\n",
    "        self.R0 = np.reshape(self.R0, [3, 3])\n",
    "\n",
    "        # Camera intrinsics and extrinsics\n",
    "        self.c_u = self.P[0, 2]\n",
    "        self.c_v = self.P[1, 2]\n",
    "        self.f_u = self.P[0, 0]\n",
    "        self.f_v = self.P[1, 1]\n",
    "        self.b_x = self.P[0, 3] / (-self.f_u)  # relative\n",
    "        self.b_y = self.P[1, 3] / (-self.f_v)\n",
    "        \n",
    "    def cart2hom(self, pts_3d):\n",
    "        ''' Input: nx3 points in Cartesian\n",
    "            Oupput: nx4 points in Homogeneous by pending 1\n",
    "        '''\n",
    "        n = pts_3d.shape[0]\n",
    "        pts_3d_hom = np.hstack((pts_3d, np.ones((n, 1))))\n",
    "        return pts_3d_hom\n",
    "\n",
    "    def read_calib_file(self, filepath):\n",
    "        ''' Read in a calibration file and parse into a dictionary.\n",
    "        Ref: https://github.com/utiasSTARS/pykitti/blob/master/pykitti/utils.py\n",
    "        '''\n",
    "        data = {}\n",
    "        with open(filepath, 'r') as f:\n",
    "            for line in f.readlines():\n",
    "                line = line.rstrip()\n",
    "                if len(line) == 0: continue\n",
    "                key, value = line.split(':', 1)\n",
    "                # The only non-float values in these files are dates, which\n",
    "                # we don't care about anyway\n",
    "                try:\n",
    "                    data[key] = np.array([float(x) for x in value.split()])\n",
    "                except ValueError:\n",
    "                    pass\n",
    "\n",
    "        return data\n",
    "\n",
    "    # =========================== \n",
    "    # ------- 3d to 3d ---------- \n",
    "    # =========================== \n",
    "\n",
    "    def project_ref_to_velo(self, pts_3d_ref):\n",
    "        pts_3d_ref = self.cart2hom(pts_3d_ref)  # nx4\n",
    "        return np.dot(pts_3d_ref, np.transpose(self.C2V))\n",
    "\n",
    "    def project_rect_to_ref(self, pts_3d_rect):\n",
    "        ''' Input and Output are nx3 points '''\n",
    "        return np.transpose(np.dot(np.linalg.inv(self.R0), np.transpose(pts_3d_rect)))\n",
    "\n",
    "    def project_rect_to_velo(self, pts_3d_rect):\n",
    "        ''' Input: nx3 points in rect camera coord.\n",
    "            Output: nx3 points in velodyne coord.\n",
    "        '''\n",
    "        pts_3d_ref = self.project_rect_to_ref(pts_3d_rect)\n",
    "        return self.project_ref_to_velo(pts_3d_ref)\n",
    "\n",
    "\n",
    "    # =========================== \n",
    "    # ------- 2d to 3d ---------- \n",
    "    # =========================== \n",
    "    def project_image_to_rect(self, uv_depth):\n",
    "        ''' Input: nx3 first two channels are uv, 3rd channel\n",
    "                   is depth in rect camera coord.\n",
    "            Output: nx3 points in rect camera coord.\n",
    "        '''\n",
    "        n = uv_depth.shape[0]\n",
    "        x = ((uv_depth[:, 0] - self.c_u) * uv_depth[:, 2]) / self.f_u + self.b_x\n",
    "        y = ((uv_depth[:, 1] - self.c_v) * uv_depth[:, 2]) / self.f_v + self.b_y\n",
    "        pts_3d_rect = np.zeros((n, 3))\n",
    "        pts_3d_rect[:, 0] = x\n",
    "        pts_3d_rect[:, 1] = y\n",
    "        pts_3d_rect[:, 2] = uv_depth[:, 2]\n",
    "        return pts_3d_rect\n",
    "\n",
    "    def project_image_to_velo(self, uv_depth):\n",
    "        pts_3d_rect = self.project_image_to_rect(uv_depth)\n",
    "        return self.project_rect_to_velo(pts_3d_rect)\n",
    "\n",
    "def inverse_rigid_trans(Tr):\n",
    "    ''' Inverse a rigid body transform matrix (3x4 as [R|t])\n",
    "        [R'|-R't; 0|1]\n",
    "    '''\n",
    "    inv_Tr = np.zeros_like(Tr)  # 3x4\n",
    "    inv_Tr[0:3, 0:3] = np.transpose(Tr[0:3, 0:3])\n",
    "    inv_Tr[0:3, 3] = np.dot(-np.transpose(Tr[0:3, 0:3]), Tr[0:3, 3])\n",
    "    return inv_Tr\n",
    "\n",
    "def project_depth_to_points(calib, depth, max_high):\n",
    "    #rows, cols = depth.shape\n",
    "    rows =  depth.shape[0] #x\n",
    "    cols =  depth.shape[1] #y\n",
    "    c, r = np.meshgrid(np.arange(cols), np.arange(rows))\n",
    "    points = np.stack([c, r, depth[:,:,2]]) #z\n",
    "    points = points.reshape((3, -1))\n",
    "    points = points.T\n",
    "    cloud = calib.project_image_to_velo(points)\n",
    "    valid = (cloud[:, 0] >= 0) & (cloud[:, 2] < max_high)\n",
    "    return cloud[valid]"
   ]
  },
  {
   "cell_type": "code",
   "execution_count": 83,
   "metadata": {},
   "outputs": [],
   "source": [
    "calib_file = '/home/joonsu0109/Joon/Image_to_Point/set/000002.txt'"
   ]
  },
  {
   "cell_type": "code",
   "execution_count": 84,
   "metadata": {},
   "outputs": [],
   "source": [
    "calib = Calibration(calib_file)"
   ]
  },
  {
   "cell_type": "code",
   "execution_count": 85,
   "metadata": {},
   "outputs": [],
   "source": [
    "depth_map = cv2.imread('/home/joonsu0109/Joon/Image_to_Point/depth_origin.jpg') #or png"
   ]
  },
  {
   "cell_type": "code",
   "execution_count": 86,
   "metadata": {},
   "outputs": [],
   "source": [
    "max_high = 1"
   ]
  },
  {
   "cell_type": "code",
   "execution_count": 87,
   "metadata": {},
   "outputs": [
    {
     "data": {
      "text/plain": [
       "array([[[89, 89, 89],\n",
       "        [68, 68, 68],\n",
       "        [61, 61, 61],\n",
       "        ...,\n",
       "        [91, 91, 91],\n",
       "        [96, 96, 96],\n",
       "        [99, 99, 99]],\n",
       "\n",
       "       [[81, 81, 81],\n",
       "        [61, 61, 61],\n",
       "        [54, 54, 54],\n",
       "        ...,\n",
       "        [89, 89, 89],\n",
       "        [95, 95, 95],\n",
       "        [99, 99, 99]],\n",
       "\n",
       "       [[74, 74, 74],\n",
       "        [54, 54, 54],\n",
       "        [48, 48, 48],\n",
       "        ...,\n",
       "        [87, 87, 87],\n",
       "        [93, 93, 93],\n",
       "        [98, 98, 98]],\n",
       "\n",
       "       ...,\n",
       "\n",
       "       [[24, 24, 24],\n",
       "        [24, 24, 24],\n",
       "        [24, 24, 24],\n",
       "        ...,\n",
       "        [16, 16, 16],\n",
       "        [16, 16, 16],\n",
       "        [16, 16, 16]],\n",
       "\n",
       "       [[24, 24, 24],\n",
       "        [24, 24, 24],\n",
       "        [24, 24, 24],\n",
       "        ...,\n",
       "        [16, 16, 16],\n",
       "        [16, 16, 16],\n",
       "        [16, 16, 16]],\n",
       "\n",
       "       [[24, 24, 24],\n",
       "        [24, 24, 24],\n",
       "        [24, 24, 24],\n",
       "        ...,\n",
       "        [16, 16, 16],\n",
       "        [16, 16, 16],\n",
       "        [16, 16, 16]]], dtype=uint8)"
      ]
     },
     "execution_count": 87,
     "metadata": {},
     "output_type": "execute_result"
    }
   ],
   "source": [
    "depth_map"
   ]
  },
  {
   "cell_type": "code",
   "execution_count": 88,
   "metadata": {},
   "outputs": [
    {
     "data": {
      "text/plain": [
       "<matplotlib.image.AxesImage at 0x7f606c3a4910>"
      ]
     },
     "execution_count": 88,
     "metadata": {},
     "output_type": "execute_result"
    },
    {
     "data": {
      "image/png": "[encoded data removed]",
      "text/plain": [
       "<Figure size 432x288 with 1 Axes>"
      ]
     },
     "metadata": {
      "needs_background": "light"
     },
     "output_type": "display_data"
    }
   ],
   "source": [
    "depth_map = (depth_map).astype(np.float32)/256\n",
    "#depth_map = (depth_map*255).astype(np.uint8)\n",
    "#depth_map = cv2.applyColorMap(depth_map , cv2.COLORMAP_MAGMA)\n",
    "plt.imshow(depth_map)"
   ]
  },
  {
   "cell_type": "code",
   "execution_count": 89,
   "metadata": {},
   "outputs": [
    {
     "data": {
      "text/plain": [
       "array([[[0.34765625, 0.34765625, 0.34765625],\n",
       "        [0.265625  , 0.265625  , 0.265625  ],\n",
       "        [0.23828125, 0.23828125, 0.23828125],\n",
       "        ...,\n",
       "        [0.35546875, 0.35546875, 0.35546875],\n",
       "        [0.375     , 0.375     , 0.375     ],\n",
       "        [0.38671875, 0.38671875, 0.38671875]],\n",
       "\n",
       "       [[0.31640625, 0.31640625, 0.31640625],\n",
       "        [0.23828125, 0.23828125, 0.23828125],\n",
       "        [0.2109375 , 0.2109375 , 0.2109375 ],\n",
       "        ...,\n",
       "        [0.34765625, 0.34765625, 0.34765625],\n",
       "        [0.37109375, 0.37109375, 0.37109375],\n",
       "        [0.38671875, 0.38671875, 0.38671875]],\n",
       "\n",
       "       [[0.2890625 , 0.2890625 , 0.2890625 ],\n",
       "        [0.2109375 , 0.2109375 , 0.2109375 ],\n",
       "        [0.1875    , 0.1875    , 0.1875    ],\n",
       "        ...,\n",
       "        [0.33984375, 0.33984375, 0.33984375],\n",
       "        [0.36328125, 0.36328125, 0.36328125],\n",
       "        [0.3828125 , 0.3828125 , 0.3828125 ]],\n",
       "\n",
       "       ...,\n",
       "\n",
       "       [[0.09375   , 0.09375   , 0.09375   ],\n",
       "        [0.09375   , 0.09375   , 0.09375   ],\n",
       "        [0.09375   , 0.09375   , 0.09375   ],\n",
       "        ...,\n",
       "        [0.0625    , 0.0625    , 0.0625    ],\n",
       "        [0.0625    , 0.0625    , 0.0625    ],\n",
       "        [0.0625    , 0.0625    , 0.0625    ]],\n",
       "\n",
       "       [[0.09375   , 0.09375   , 0.09375   ],\n",
       "        [0.09375   , 0.09375   , 0.09375   ],\n",
       "        [0.09375   , 0.09375   , 0.09375   ],\n",
       "        ...,\n",
       "        [0.0625    , 0.0625    , 0.0625    ],\n",
       "        [0.0625    , 0.0625    , 0.0625    ],\n",
       "        [0.0625    , 0.0625    , 0.0625    ]],\n",
       "\n",
       "       [[0.09375   , 0.09375   , 0.09375   ],\n",
       "        [0.09375   , 0.09375   , 0.09375   ],\n",
       "        [0.09375   , 0.09375   , 0.09375   ],\n",
       "        ...,\n",
       "        [0.0625    , 0.0625    , 0.0625    ],\n",
       "        [0.0625    , 0.0625    , 0.0625    ],\n",
       "        [0.0625    , 0.0625    , 0.0625    ]]], dtype=float32)"
      ]
     },
     "execution_count": 89,
     "metadata": {},
     "output_type": "execute_result"
    }
   ],
   "source": [
    "depth_map"
   ]
  },
  {
   "cell_type": "code",
   "execution_count": 90,
   "metadata": {},
   "outputs": [
    {
     "data": {
      "text/plain": [
       "(352, 1216, 3)"
      ]
     },
     "execution_count": 90,
     "metadata": {},
     "output_type": "execute_result"
    }
   ],
   "source": [
    "depth_map.shape"
   ]
  },
  {
   "cell_type": "code",
   "execution_count": 91,
   "metadata": {},
   "outputs": [],
   "source": [
    "lidar = project_depth_to_points(calib, depth_map, max_high)"
   ]
  },
  {
   "cell_type": "code",
   "execution_count": 92,
   "metadata": {},
   "outputs": [
    {
     "data": {
      "text/plain": [
       "(428032, 3)"
      ]
     },
     "execution_count": 92,
     "metadata": {},
     "output_type": "execute_result"
    }
   ],
   "source": [
    "lidar.shape"
   ]
  },
  {
   "cell_type": "code",
   "execution_count": 93,
   "metadata": {},
   "outputs": [
    {
     "data": {
      "text/plain": [
       "array([[ 0.61958377,  0.35304203,  0.01868316],\n",
       "       [ 0.5377787 ,  0.28357473, -0.00255963],\n",
       "       [ 0.51051038,  0.26024934, -0.00964236],\n",
       "       ...,\n",
       "       [ 0.33555583,  0.00809645, -0.08665769],\n",
       "       [ 0.33555585,  0.00800984, -0.0866586 ],\n",
       "       [ 0.33555587,  0.00792322, -0.08665952]])"
      ]
     },
     "execution_count": 93,
     "metadata": {},
     "output_type": "execute_result"
    }
   ],
   "source": [
    "lidar"
   ]
  },
  {
   "cell_type": "code",
   "execution_count": 94,
   "metadata": {},
   "outputs": [],
   "source": [
    "lidar = np.concatenate([lidar, np.ones((lidar.shape[0], 1))], 1)"
   ]
  },
  {
   "cell_type": "code",
   "execution_count": 95,
   "metadata": {},
   "outputs": [
    {
     "data": {
      "text/plain": [
       "array([[ 0.61958377,  0.35304203,  0.01868316,  1.        ],\n",
       "       [ 0.5377787 ,  0.28357473, -0.00255963,  1.        ],\n",
       "       [ 0.51051038,  0.26024934, -0.00964236,  1.        ],\n",
       "       ...,\n",
       "       [ 0.33555583,  0.00809645, -0.08665769,  1.        ],\n",
       "       [ 0.33555585,  0.00800984, -0.0866586 ,  1.        ],\n",
       "       [ 0.33555587,  0.00792322, -0.08665952,  1.        ]])"
      ]
     },
     "execution_count": 95,
     "metadata": {},
     "output_type": "execute_result"
    }
   ],
   "source": [
    "lidar"
   ]
  },
  {
   "cell_type": "code",
   "execution_count": 80,
   "metadata": {},
   "outputs": [],
   "source": [
    "lidar = lidar.astype(np.float32)"
   ]
  },
  {
   "cell_type": "code",
   "execution_count": 82,
   "metadata": {},
   "outputs": [
    {
     "data": {
      "text/plain": [
       "(428032, 4)"
      ]
     },
     "execution_count": 82,
     "metadata": {},
     "output_type": "execute_result"
    }
   ],
   "source": [
    "lidar.shape"
   ]
  },
  {
   "cell_type": "code",
   "execution_count": 81,
   "metadata": {},
   "outputs": [],
   "source": [
    "lidar.tofile('depth_origin.bin')"
   ]
  },
  {
   "cell_type": "code",
   "execution_count": null,
   "metadata": {},
   "outputs": [],
   "source": []
  },
  {
   "cell_type": "code",
   "execution_count": null,
   "metadata": {},
   "outputs": [],
   "source": []
  },
  {
   "cell_type": "code",
   "execution_count": null,
   "metadata": {},
   "outputs": [],
   "source": []
  }
 ],
 "metadata": {
  "interpreter": {
   "hash": "16ab530e4f6712c81f0985dcfa0757bb749dce016e880534499c5017be0723ee"
  },
  "kernelspec": {
   "display_name": "Python 3.7.11 ('dev')",
   "language": "python",
   "name": "python3"
  },
  "language_info": {
   "codemirror_mode": {
    "name": "ipython",
    "version": 3
   },
   "file_extension": ".py",
   "mimetype": "text/x-python",
   "name": "python",
   "nbconvert_exporter": "python",
   "pygments_lexer": "ipython3",
   "version": "3.7.11"
  },
  "orig_nbformat": 4
 },
 "nbformat": 4,
 "nbformat_minor": 2
}
